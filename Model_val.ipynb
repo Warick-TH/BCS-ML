{
 "cells": [
  {
   "cell_type": "code",
   "execution_count": null,
   "id": "80bac1d9",
   "metadata": {},
   "outputs": [],
   "source": [
    "import torch\n",
    "from torch.utils.data import Dataset\n",
    "from torch.utils.data import DataLoader\n",
    "import numpy as np\n",
    "import torch.nn as nn\n",
    "import pandas as pd\n",
    "import os\n",
    "import glob\n",
    "import sys\n",
    "from sklearn.metrics import r2_score\n",
    "from sklearn.model_selection import train_test_split\n",
    "from sklearn import preprocessing\n",
    "import matplotlib.pyplot as plt\n",
    "from scipy.signal import savgol_filter"
   ]
  },
  {
   "cell_type": "code",
   "execution_count": null,
   "id": "18252598",
   "metadata": {},
   "outputs": [],
   "source": [
    "import random\n",
    "torch.manual_seed(42)\n",
    "np.random.seed(42)\n",
    "random.seed(42)"
   ]
  },
  {
   "cell_type": "code",
   "execution_count": null,
   "id": "147ac68b",
   "metadata": {},
   "outputs": [],
   "source": [
    "##loard validation data\n",
    "val_data = pd.read_excel(r\"C:/Users/Lenovo/Desktop/BCS/validation.xlsx\")\n",
    "val_data_feature = val_data.iloc[:,:10]\n",
    "val_data_label = val_data.iloc[:,-1]\n",
    "\n",
    "val_data_feature = np.array(val_data_feature)\n",
    "val_data_label = np.array(val_data_label)\n",
    "\n",
    "print(val_data_feature.shape)\n",
    "print(val_data_label.shape)"
   ]
  },
  {
   "cell_type": "code",
   "execution_count": null,
   "id": "25516007",
   "metadata": {},
   "outputs": [],
   "source": [
    "import torch.nn.init as init\n",
    "class BP(nn.Module):\n",
    "    def __init__(self, num_layers,hidden_size):\n",
    "        super(BP,self).__init__()\n",
    "        self.Liner1 = nn.Linear(10,hidden_size)\n",
    "        self.queue= [nn.Sequential(nn.Linear(hidden_size, hidden_size), nn.LeakyReLU(0.1)) for _ in range(num_layers - 1)]\n",
    "        self.model=nn.Sequential(*self.queue)\n",
    "        self.Liner2 = nn.Linear(hidden_size,1)\n",
    "        \n",
    "        \n",
    "    def forward(self,input):\n",
    "        output = self.Liner1(input)\n",
    "        output=self.model(output)\n",
    "        output = self.Liner2(output)\n",
    "        #output=output.squeeze(1)\n",
    "        return output\n",
    "n_epochs =50\n",
    "bp=BP(7,12)\n",
    "optimizer = torch.optim.Adam(bp.parameters(), lr=0.01)\n",
    "MSEloss=nn.MSELoss()"
   ]
  },
  {
   "cell_type": "code",
   "execution_count": null,
   "id": "a520d099",
   "metadata": {},
   "outputs": [],
   "source": [
    "def val(val_data_feature, val_data_label,epoch_best):\n",
    "    predict_list=[]\n",
    "    bp.load_state_dict(torch.load(epoch_best))\n",
    "    bp.eval()\n",
    "    for val_data_feature in val_data_feature:\n",
    "        val_data_feature = torch.from_numpy(val_data_feature).float()\n",
    "        val_data_feature=val_data_feature.unsqueeze(0)\n",
    "        predict=bp(val_data_feature)\n",
    "        predict=predict.squeeze(1)\n",
    "        predict=predict.squeeze(0)\n",
    "        predict_list.append(predict.detach().numpy())\n",
    " \n",
    "    predict_list=np.array(predict_list)\n",
    "    loss = MSEloss(torch.from_numpy(predict_list),torch.from_numpy(val_data_label)).item()\n",
    "    print(\"[R2:{}][loss:{}]\".format(r2_score(val_data_label,predict_list), loss))\n",
    "    return predict_list, loss"
   ]
  },
  {
   "cell_type": "code",
   "execution_count": null,
   "id": "c26bee50",
   "metadata": {},
   "outputs": [],
   "source": [
    "predict_list, loss= val(val_data_feature,val_data_label,epoch_best=\"model_parameters_training.pth\")"
   ]
  }
 ],
 "metadata": {
  "kernelspec": {
   "display_name": "Python 3",
   "language": "python",
   "name": "python3"
  },
  "language_info": {
   "codemirror_mode": {
    "name": "ipython",
    "version": 3
   },
   "file_extension": ".py",
   "mimetype": "text/x-python",
   "name": "python",
   "nbconvert_exporter": "python",
   "pygments_lexer": "ipython3",
   "version": "3.8.8"
  },
  "varInspector": {
   "cols": {
    "lenName": 16,
    "lenType": 16,
    "lenVar": 40
   },
   "kernels_config": {
    "python": {
     "delete_cmd_postfix": "",
     "delete_cmd_prefix": "del ",
     "library": "var_list.py",
     "varRefreshCmd": "print(var_dic_list())"
    },
    "r": {
     "delete_cmd_postfix": ") ",
     "delete_cmd_prefix": "rm(",
     "library": "var_list.r",
     "varRefreshCmd": "cat(var_dic_list()) "
    }
   },
   "types_to_exclude": [
    "module",
    "function",
    "builtin_function_or_method",
    "instance",
    "_Feature"
   ],
   "window_display": false
  }
 },
 "nbformat": 4,
 "nbformat_minor": 5
}
