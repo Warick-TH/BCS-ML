{
 "cells": [
  {
   "cell_type": "code",
   "execution_count": 1,
   "id": "4a65cdbc",
   "metadata": {},
   "outputs": [],
   "source": [
    "#from sklearn.svm import SVR\n",
    "from sklearn.model_selection import KFold, cross_val_score as CVS, train_test_split as TTS\n",
    "from sklearn.metrics import mean_squared_error as MSE\n",
    "import pandas as pd\n",
    "import numpy as np\n",
    "from sklearn.model_selection import cross_val_score\n",
    "from sklearn.ensemble import RandomForestRegressor\n",
    "import matplotlib.pyplot as plt"
   ]
  },
  {
   "cell_type": "code",
   "execution_count": 2,
   "id": "16b2f8db",
   "metadata": {},
   "outputs": [],
   "source": [
    "data = pd.read_excel(r\"C:\\Users\\Lenovo\\Desktop\\data_process\\建模数据整理.xlsx\")"
   ]
  },
  {
   "cell_type": "code",
   "execution_count": 3,
   "id": "94fd6e94",
   "metadata": {},
   "outputs": [],
   "source": [
    "data_features = data.iloc[:,:10]\n",
    "data_label = data.iloc[:,-1]"
   ]
  },
  {
   "cell_type": "code",
   "execution_count": 4,
   "id": "724b1945",
   "metadata": {},
   "outputs": [
    {
     "data": {
      "text/plain": [
       "(51625, 10)"
      ]
     },
     "execution_count": 4,
     "metadata": {},
     "output_type": "execute_result"
    }
   ],
   "source": [
    "data_features.shape"
   ]
  },
  {
   "cell_type": "code",
   "execution_count": 5,
   "id": "9be05430",
   "metadata": {},
   "outputs": [],
   "source": [
    "x_train, x_test, y_train, y_test = TTS(data_features, data_label, test_size = 0.3, random_state=100)"
   ]
  },
  {
   "cell_type": "code",
   "execution_count": 6,
   "id": "4ed29641",
   "metadata": {},
   "outputs": [],
   "source": [
    "rf = RandomForestRegressor(n_estimators=200).fit(x_train, y_train)"
   ]
  },
  {
   "cell_type": "code",
   "execution_count": 7,
   "id": "0a680d5e",
   "metadata": {},
   "outputs": [
    {
     "data": {
      "text/plain": [
       "0.999950626474516"
      ]
     },
     "execution_count": 7,
     "metadata": {},
     "output_type": "execute_result"
    }
   ],
   "source": [
    "rf.score(x_test, y_test)"
   ]
  },
  {
   "cell_type": "markdown",
   "id": "4a974f66",
   "metadata": {},
   "source": [
    "## 验证"
   ]
  },
  {
   "cell_type": "code",
   "execution_count": 8,
   "id": "3e6a8182",
   "metadata": {},
   "outputs": [],
   "source": [
    "val_data = pd.read_excel(r\"C:\\Users\\Lenovo\\Desktop\\data_process\\validation.xlsx\", sheet_name='Sheet2')"
   ]
  },
  {
   "cell_type": "code",
   "execution_count": 9,
   "id": "84ef8552",
   "metadata": {},
   "outputs": [],
   "source": [
    "val_data_feature = val_data.iloc[:,:10]\n",
    "val_data_label = val_data.iloc[:,-1]"
   ]
  },
  {
   "cell_type": "code",
   "execution_count": 10,
   "id": "a64c0b7c",
   "metadata": {},
   "outputs": [
    {
     "name": "stdout",
     "output_type": "stream",
     "text": [
      "(875, 10)\n",
      "(875,)\n"
     ]
    }
   ],
   "source": [
    "print(val_data_feature.shape)\n",
    "print(val_data_label.shape)"
   ]
  },
  {
   "cell_type": "code",
   "execution_count": 11,
   "id": "cc3eebc8",
   "metadata": {},
   "outputs": [
    {
     "data": {
      "text/plain": [
       "0.9724540071980782"
      ]
     },
     "execution_count": 11,
     "metadata": {},
     "output_type": "execute_result"
    }
   ],
   "source": [
    "rf.score(val_data_feature,val_data_label.values)"
   ]
  },
  {
   "cell_type": "code",
   "execution_count": 15,
   "id": "0bef5b36",
   "metadata": {},
   "outputs": [],
   "source": [
    "predict_value = rf.predict(val_data_feature)"
   ]
  },
  {
   "cell_type": "code",
   "execution_count": 16,
   "id": "1b49437d",
   "metadata": {},
   "outputs": [
    {
     "data": {
      "text/plain": [
       "(875,)"
      ]
     },
     "execution_count": 16,
     "metadata": {},
     "output_type": "execute_result"
    }
   ],
   "source": [
    "predict_value.shape"
   ]
  },
  {
   "cell_type": "code",
   "execution_count": 18,
   "id": "50b9b669",
   "metadata": {},
   "outputs": [
    {
     "data": {
      "image/png": "[encoded data removed]",
      "text/plain": [
       "<Figure size 432x288 with 1 Axes>"
      ]
     },
     "metadata": {
      "needs_background": "light"
     },
     "output_type": "display_data"
    }
   ],
   "source": [
    "plt.plot(val_data_feature.iloc[:,-1], predict_value ,label = 'predict_RF')\n",
    "plt.plot(val_data_feature.iloc[:,-1], val_data_label ,label = 'Original data')\n",
    "plt.legend()\n",
    "plt.show()"
   ]
  },
  {
   "cell_type": "markdown",
   "id": "8dc44850",
   "metadata": {},
   "source": [
    "## xgboost"
   ]
  },
  {
   "cell_type": "code",
   "execution_count": 19,
   "id": "a8c6f533",
   "metadata": {},
   "outputs": [],
   "source": [
    "from xgboost import XGBRegressor as XGBR"
   ]
  },
  {
   "cell_type": "code",
   "execution_count": 20,
   "id": "cbbebbe5",
   "metadata": {},
   "outputs": [],
   "source": [
    "xgb = XGBR(n_estimators = 200).fit(x_train, y_train)"
   ]
  },
  {
   "cell_type": "code",
   "execution_count": 21,
   "id": "fd3880ac",
   "metadata": {},
   "outputs": [
    {
     "data": {
      "text/plain": [
       "0.999814674426449"
      ]
     },
     "execution_count": 21,
     "metadata": {},
     "output_type": "execute_result"
    }
   ],
   "source": [
    "xgb.score(x_test, y_test)"
   ]
  },
  {
   "cell_type": "code",
   "execution_count": 22,
   "id": "3121db89",
   "metadata": {},
   "outputs": [
    {
     "data": {
      "text/plain": [
       "0.9911195655587788"
      ]
     },
     "execution_count": 22,
     "metadata": {},
     "output_type": "execute_result"
    }
   ],
   "source": [
    "xgb.score(val_data_feature, val_data_label)"
   ]
  },
  {
   "cell_type": "code",
   "execution_count": 24,
   "id": "64a6ad89",
   "metadata": {},
   "outputs": [],
   "source": [
    "predict_xgb = xgb.predict(val_data_feature)"
   ]
  },
  {
   "cell_type": "code",
   "execution_count": 26,
   "id": "cf67d7a7",
   "metadata": {},
   "outputs": [
    {
     "data": {
      "image/png": "[encoded data removed]",
      "text/plain": [
       "<Figure size 432x288 with 1 Axes>"
      ]
     },
     "metadata": {
      "needs_background": "light"
     },
     "output_type": "display_data"
    }
   ],
   "source": [
    "plt.plot(val_data_feature.iloc[:,-1], predict_xgb ,label = 'predict_xgb')\n",
    "plt.plot(val_data_feature.iloc[:,-1], predict_value ,label = 'predict_RF')\n",
    "plt.plot(val_data_feature.iloc[:,-1], val_data_label ,label = 'Original data')\n",
    "plt.legend()\n",
    "plt.show()"
   ]
  },
  {
   "cell_type": "code",
   "execution_count": 34,
   "id": "80615604",
   "metadata": {},
   "outputs": [],
   "source": [
    "# 交叉验证一下\n",
    "xgb_cv = XGBR(n_estimators = 150)\n",
    "score = CVS(xgb_cv, x_train, y_train, cv= 10)"
   ]
  },
  {
   "cell_type": "code",
   "execution_count": 35,
   "id": "0966b002",
   "metadata": {},
   "outputs": [
    {
     "data": {
      "text/plain": [
       "array([0.99983282, 0.99973803, 0.99981556, 0.99980316, 0.99980943,\n",
       "       0.99981632, 0.99981069, 0.99983479, 0.9998056 , 0.99980136])"
      ]
     },
     "execution_count": 35,
     "metadata": {},
     "output_type": "execute_result"
    }
   ],
   "source": [
    "score "
   ]
  },
  {
   "cell_type": "code",
   "execution_count": 33,
   "id": "a09144a2",
   "metadata": {},
   "outputs": [
    {
     "data": {
      "text/plain": [
       "array([0.99995004, 0.99993972, 0.99994857, 0.9999485 , 0.99994375,\n",
       "       0.99995046, 0.99994485, 0.99994781, 0.99994703, 0.99994587])"
      ]
     },
     "execution_count": 33,
     "metadata": {},
     "output_type": "execute_result"
    }
   ],
   "source": [
    "rf_cv= RandomForestRegressor(n_estimators= 200)\n",
    "CVS(rf_cv,x_train,y_train, cv=10)"
   ]
  },
  {
   "cell_type": "code",
   "execution_count": 39,
   "id": "1bc6999d",
   "metadata": {},
   "outputs": [],
   "source": [
    "import random"
   ]
  },
  {
   "cell_type": "code",
   "execution_count": 40,
   "id": "c22cdd99",
   "metadata": {},
   "outputs": [],
   "source": [
    "data_copy = np.array(data)\n",
    "np.random.shuffle(data_copy)"
   ]
  },
  {
   "cell_type": "code",
   "execution_count": 47,
   "id": "fdb71707",
   "metadata": {},
   "outputs": [],
   "source": [
    "data_copy = pd.DataFrame(data_copy)\n",
    "data_copy.columns = data.columns"
   ]
  },
  {
   "cell_type": "code",
   "execution_count": 51,
   "id": "2df40a52",
   "metadata": {},
   "outputs": [],
   "source": [
    "data_copy_features = data_copy.iloc[:,:10]\n",
    "data_copy_label = data_copy.iloc[:,-1]"
   ]
  },
  {
   "cell_type": "code",
   "execution_count": 54,
   "id": "c67b8e7a",
   "metadata": {},
   "outputs": [
    {
     "name": "stdout",
     "output_type": "stream",
     "text": [
      "0.9999718363869359 250\n"
     ]
    },
    {
     "data": {
      "image/png": "[encoded data removed]",
      "text/plain": [
       "<Figure size 1440x360 with 1 Axes>"
      ]
     },
     "metadata": {
      "needs_background": "light"
     },
     "output_type": "display_data"
    }
   ],
   "source": [
    "scores = []\n",
    "for i in range(50, 275, 25):\n",
    "    rfc_est = RandomForestRegressor( n_estimators=i, random_state = 100)\n",
    "    score = cross_val_score(rfc_est, data_copy_features, data_copy_label, cv= 5).mean()\n",
    "    scores.append(score)\n",
    "print(max(scores), (scores.index(max(scores))*25+50))\n",
    "plt.figure(figsize=[20,5])\n",
    "plt.plot(range(50, 275, 25),scores)\n",
    "plt.show()    "
   ]
  },
  {
   "cell_type": "code",
   "execution_count": 55,
   "id": "5a0bbd67",
   "metadata": {},
   "outputs": [
    {
     "data": {
      "text/plain": [
       "[0.9999689602251085,\n",
       " 0.9999699645344998,\n",
       " 0.9999705248044307,\n",
       " 0.9999712055843686,\n",
       " 0.9999716386937955,\n",
       " 0.9999717316171697,\n",
       " 0.999971774671021,\n",
       " 0.9999717900837796,\n",
       " 0.9999718363869359]"
      ]
     },
     "execution_count": 55,
     "metadata": {},
     "output_type": "execute_result"
    }
   ],
   "source": [
    "scores"
   ]
  },
  {
   "cell_type": "code",
   "execution_count": 57,
   "id": "893245cd",
   "metadata": {},
   "outputs": [
    {
     "name": "stdout",
     "output_type": "stream",
     "text": [
      "0.9999428614727349\n",
      "0.972477200720533\n",
      "0.9999718363869359\n"
     ]
    }
   ],
   "source": [
    "rfc1 = RandomForestRegressor( n_estimators=50, random_state = 100).fit(x_train, y_train)\n",
    "print(rfc1.score(x_test, y_test))\n",
    "print(rfc1.score(val_data_feature, val_data_label))\n",
    "\n",
    "rfc_2 = RandomForestRegressor( n_estimators=50, random_state = 100)\n",
    "score2 = cross_val_score(rfc_est, data_copy_features, data_copy_label, cv= 5).mean()\n",
    "print(score2)"
   ]
  },
  {
   "cell_type": "code",
   "execution_count": 66,
   "id": "6f50169e",
   "metadata": {},
   "outputs": [
    {
     "name": "stdout",
     "output_type": "stream",
     "text": [
      "0.9912518537020548\n"
     ]
    }
   ],
   "source": [
    "xgb2 = XGBR(n_estimators=100, random_state = 100).fit(x_train, y_train)\n",
    "print(xgb2.score(val_data_feature, val_data_label))"
   ]
  },
  {
   "cell_type": "code",
   "execution_count": null,
   "id": "19aa96f8",
   "metadata": {},
   "outputs": [],
   "source": []
  }
 ],
 "metadata": {
  "kernelspec": {
   "display_name": "Python 3",
   "language": "python",
   "name": "python3"
  },
  "language_info": {
   "codemirror_mode": {
    "name": "ipython",
    "version": 3
   },
   "file_extension": ".py",
   "mimetype": "text/x-python",
   "name": "python",
   "nbconvert_exporter": "python",
   "pygments_lexer": "ipython3",
   "version": "3.8.8"
  }
 },
 "nbformat": 4,
 "nbformat_minor": 5
}
