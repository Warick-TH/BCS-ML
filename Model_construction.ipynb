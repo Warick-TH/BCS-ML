{
 "cells": [
  {
   "cell_type": "code",
   "execution_count": 1,
   "id": "dca6912b",
   "metadata": {},
   "outputs": [],
   "source": [
    "import torch\n",
    "from torch.utils.data import Dataset\n",
    "from torch.utils.data import DataLoader\n",
    "import numpy as np\n",
    "import torch.nn as nn\n",
    "import pandas as pd\n",
    "import os\n",
    "import glob\n",
    "import sys\n",
    "#import matplotlib.pyplot as plt\n",
    "from sklearn.metrics import r2_score\n",
    "from sklearn.model_selection import train_test_split\n",
    "from sklearn import preprocessing\n",
    "import matplotlib.pyplot as plt\n",
    "from scipy.signal import savgol_filter"
   ]
  },
  {
   "cell_type": "code",
   "execution_count": null,
   "id": "21c5aa03",
   "metadata": {},
   "outputs": [],
   "source": [
    "import random\n",
    "torch.manual_seed(42)\n",
    "np.random.seed(42)\n",
    "random.seed(42)"
   ]
  },
  {
   "cell_type": "code",
   "execution_count": null,
   "id": "b8fdc903",
   "metadata": {},
   "outputs": [],
   "source": [
    "data =  pd.read_excel(r\"C:\\Users\\Lenovo\\Desktop\\data_process\\dataset.xlsx\")\n",
    "data_features = data.iloc[:,:10]\n",
    "data_label = data.iloc[:,-1]"
   ]
  },
  {
   "cell_type": "code",
   "execution_count": null,
   "id": "0142eb05",
   "metadata": {},
   "outputs": [],
   "source": [
    "feature_train,feature_test,label_train,label_test= train_test_split(data_features,data_label,test_size=0.3,random_state = 100,shuffle = True)\n",
    "feature_train = np.array(feature_train)\n",
    "feature_test = np.array(feature_test)\n",
    "label_train = np.array(label_train)\n",
    "label_test = np.array(label_test)"
   ]
  },
  {
   "cell_type": "code",
   "execution_count": null,
   "id": "7eceba79",
   "metadata": {},
   "outputs": [],
   "source": [
    "class ExcelDataset(Dataset):\n",
    "    def __init__(self):\n",
    "        self.feature = feature_train  \n",
    "        self.label=label_train  \n",
    "        self.x = torch.from_numpy(self.feature).float()\n",
    "        self.y = torch.from_numpy(self.label).float()\n",
    "        # print(f'feature:{self.x}')\n",
    "        # print(f'label:{self.y}')\n",
    "    def __len__(self):\n",
    "        return len(self.y)\n",
    "    def __getitem__(self, index):\n",
    "        x=self.x[index]\n",
    "        y=self.y[index]\n",
    "        return {'x':x,'y':y}\n",
    "\n",
    "dataset=ExcelDataset()\n",
    "dataloader=DataLoader(dataset=dataset, batch_size=256,shuffle=True,num_workers=0,drop_last = True)"
   ]
  },
  {
   "cell_type": "code",
   "execution_count": null,
   "id": "6a70df12",
   "metadata": {},
   "outputs": [],
   "source": [
    "import torch.nn.init as init\n",
    "class BP(nn.Module):\n",
    "    def __init__(self, num_layers,hidden_size):\n",
    "        super(BP,self).__init__()\n",
    "        self.Liner1 = nn.Linear(10,hidden_size)\n",
    "        self.queue= [nn.Sequential(nn.Linear(hidden_size, hidden_size), nn.LeakyReLU(0.1)) for _ in range(num_layers - 1)]\n",
    "        self.model=nn.Sequential(*self.queue)\n",
    "        self.Liner2 = nn.Linear(hidden_size,1)\n",
    "        \n",
    "        \n",
    "    def forward(self,input):\n",
    "        output = self.Liner1(input)\n",
    "        output=self.model(output)\n",
    "        output = self.Liner2(output)\n",
    "        #output=output.squeeze(1)\n",
    "        return output\n",
    "n_epochs =50\n",
    "bp=BP(7,12)\n",
    "optimizer = torch.optim.Adam(bp.parameters(), lr=0.01)\n",
    "MSEloss=nn.MSELoss()"
   ]
  },
  {
   "cell_type": "code",
   "execution_count": null,
   "id": "bbef707a",
   "metadata": {},
   "outputs": [],
   "source": [
    "def train(): \n",
    "    loss_mean_best = 10000\n",
    "    loss_train = np.zeros(n_epochs)\n",
    "    loss_test = np.zeros(n_epochs)\n",
    "    epoch_best = 1\n",
    "    for epoch in range(0, n_epochs):\n",
    "        bp.train()\n",
    "        accuracy_mean = 0\n",
    "        loss_mean = 0\n",
    "        for i,value in enumerate(dataloader):\n",
    "            x=value['x']\n",
    "            y=value['y']\n",
    "            y_train=bp(x)\n",
    "            y_train=y_train.squeeze(1)\n",
    "            loss = MSEloss(y,y_train)\n",
    "            loss_mean += loss.item()\n",
    "            accuracy = r2_score(y.detach().numpy(),y_train.detach().numpy())\n",
    "            accuracy_mean += accuracy\n",
    "            optimizer.zero_grad()\n",
    "            loss.backward()\n",
    "            optimizer.step()\n",
    "        print(\n",
    "            \"\\r[Epoch %d/%d] [Batch %d/%d] [loss_train: %f]\"\n",
    "            % (\n",
    "                epoch+1,\n",
    "                n_epochs,\n",
    "                i+1,\n",
    "                len(dataloader),\n",
    "                loss_mean/len(dataloader),\n",
    "            ))\n",
    "        loss_train[epoch] = loss_mean/len(dataloader)\n",
    "        batches_done = epoch * len(dataloader) + i\n",
    "        with torch.no_grad():   ## early stop\n",
    "            _, loss_val1 = test(feature_test,label_test)\n",
    "            loss_test[epoch] = loss_val1\n",
    "            if epoch > 20:\n",
    "                if loss_test[epoch] < loss_mean_best:\n",
    "                    loss_mean_best = loss_test[epoch]\n",
    "                    epoch_best = epoch+1\n",
    "                    torch.save(bp.state_dict(), \"bp2_%d.pth\" % epoch_best) ##saving best model parameters.\n",
    "    \n",
    "    return epoch_best, loss_train, loss_test"
   ]
  },
  {
   "cell_type": "code",
   "execution_count": null,
   "id": "495512a5",
   "metadata": {},
   "outputs": [],
   "source": [
    "def test(feature_test, label_test):\n",
    "    predict_list=[]\n",
    "    bp.eval()\n",
    "    for test_feature in feature_test:\n",
    " \n",
    "        test_feature = torch.from_numpy(test_feature).float()\n",
    "        test_feature=test_feature.unsqueeze(0)\n",
    "\n",
    "        predict=bp(test_feature)\n",
    "        predict=predict.squeeze(1)\n",
    "\n",
    "        predict=predict.squeeze(0)\n",
    "        predict_list.append(predict.detach().numpy())\n",
    " \n",
    "    predict_list=np.array(predict_list)\n",
    "    loss = MSEloss(torch.from_numpy(predict_list),torch.from_numpy(label_test)).item()\n",
    "    print(\"[R2:{}][loss:{}]\".format(r2_score(predict_list, label_test), loss))\n",
    "    return predict_list, loss"
   ]
  },
  {
   "cell_type": "code",
   "execution_count": null,
   "id": "a0071ba9",
   "metadata": {},
   "outputs": [],
   "source": [
    "epoch_best,loss_train, loss_test = train()"
   ]
  }
 ],
 "metadata": {
  "kernelspec": {
   "display_name": "Python 3",
   "language": "python",
   "name": "python3"
  },
  "language_info": {
   "codemirror_mode": {
    "name": "ipython",
    "version": 3
   },
   "file_extension": ".py",
   "mimetype": "text/x-python",
   "name": "python",
   "nbconvert_exporter": "python",
   "pygments_lexer": "ipython3",
   "version": "3.8.8"
  },
  "varInspector": {
   "cols": {
    "lenName": 16,
    "lenType": 16,
    "lenVar": 40
   },
   "kernels_config": {
    "python": {
     "delete_cmd_postfix": "",
     "delete_cmd_prefix": "del ",
     "library": "var_list.py",
     "varRefreshCmd": "print(var_dic_list())"
    },
    "r": {
     "delete_cmd_postfix": ") ",
     "delete_cmd_prefix": "rm(",
     "library": "var_list.r",
     "varRefreshCmd": "cat(var_dic_list()) "
    }
   },
   "types_to_exclude": [
    "module",
    "function",
    "builtin_function_or_method",
    "instance",
    "_Feature"
   ],
   "window_display": false
  }
 },
 "nbformat": 4,
 "nbformat_minor": 5
}
